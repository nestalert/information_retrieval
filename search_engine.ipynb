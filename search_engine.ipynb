{
 "cells": [
  {
   "cell_type": "code",
   "execution_count": 13,
   "id": "e1497830-f7a4-431b-9a01-16505f4cee3f",
   "metadata": {},
   "outputs": [
    {
     "name": "stdin",
     "output_type": "stream",
     "text": [
      "Enter your query:  born NOT garnet\n"
     ]
    },
    {
     "name": "stdout",
     "output_type": "stream",
     "text": [
      "Joseph Gilman (guard) (0.09429915322785601)\n",
      "Robert Mitwerandu (0.07749882182874171)\n",
      "Robin Roussel (0.04990485502692381)\n",
      "Artem Bessalov (0.0225437915661147)\n",
      "Chester railway station (0.002913677369347455)\n"
     ]
    }
   ],
   "source": [
    "import json\n",
    "\n",
    "def load_index(filename):\n",
    "    with open(filename, 'r') as f:\n",
    "        return json.load(f)\n",
    "\n",
    "def load_tfidf(filename):\n",
    "    with open(filename, 'r') as f:\n",
    "        return json.load(f)\n",
    "\n",
    "def search_tfidf(tfidf_data, article_id, query_word):\n",
    "    for article in tfidf_data:\n",
    "        if article['title'] == article_id:\n",
    "            return article['tfidf'].get(query_word, 0.0)  # Default to 0 if not found\n",
    "    return 0.0  # If article not found in TF-IDF data\n",
    "\n",
    "def search(index, tfidf_data, query):\n",
    "    words = query.split()\n",
    "    result = set()\n",
    "\n",
    "    if len(words) == 1:\n",
    "        # Single word query\n",
    "        result = index.get(words[0], set())\n",
    "    else:\n",
    "        # Boolean query\n",
    "        set1 = set(index.get(words[0], set()))\n",
    "        set2 = set(index.get(words[2], set()))\n",
    "        operator = words[1]\n",
    "        if operator == 'AND':\n",
    "            result = set1 & set2\n",
    "        elif operator == 'OR':\n",
    "            result = set1 | set2\n",
    "        elif operator == 'NOT':\n",
    "            result = set1 - set2\n",
    "            \n",
    "    results_with_tfidf = [(article_id, search_tfidf(tfidf_data, article_id, words[0])) for article_id in result]\n",
    "\n",
    "    # Sort the list by TF-IDF value in descending order\n",
    "    sorted_results = sorted(results_with_tfidf, key=lambda x: x[1], reverse=True)\n",
    "\n",
    "    for article_id, tfidf_value in sorted_results:\n",
    "        print(f\"{article_id} ({tfidf_value})\")\n",
    "    return result\n",
    "\n",
    "if __name__ == \"__main__\":\n",
    "    index = load_index(\"index.json\")\n",
    "    tfidf_data = load_tfidf(\"tf-idf.json\")\n",
    "    query = input(\"Enter your query: \")\n",
    "    search(index, tfidf_data, query)"
   ]
  },
  {
   "cell_type": "code",
   "execution_count": null,
   "id": "f7286945-4f7e-445c-9745-3f2eab7577d1",
   "metadata": {},
   "outputs": [],
   "source": []
  }
 ],
 "metadata": {
  "kernelspec": {
   "display_name": "Python 3 (ipykernel)",
   "language": "python",
   "name": "python3"
  },
  "language_info": {
   "codemirror_mode": {
    "name": "ipython",
    "version": 3
   },
   "file_extension": ".py",
   "mimetype": "text/x-python",
   "name": "python",
   "nbconvert_exporter": "python",
   "pygments_lexer": "ipython3",
   "version": "3.12.7"
  }
 },
 "nbformat": 4,
 "nbformat_minor": 5
}
