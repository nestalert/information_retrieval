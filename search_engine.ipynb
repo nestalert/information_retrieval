{
 "cells": [
  {
   "cell_type": "code",
   "execution_count": 2,
   "id": "e1497830-f7a4-431b-9a01-16505f4cee3f",
   "metadata": {},
   "outputs": [
    {
     "name": "stdout",
     "output_type": "stream",
     "text": [
      "Index(['title', 'content'], dtype='object')\n"
     ]
    },
    {
     "name": "stdin",
     "output_type": "stream",
     "text": [
      "Choose search type (boolean/bm25):  boolean\n",
      "Enter your query:  born\n"
     ]
    },
    {
     "name": "stdout",
     "output_type": "stream",
     "text": [
      "Joseph Gilman (guard) (0.09429915322785601)\n",
      "Robert Mitwerandu (0.07749882182874171)\n",
      "Robin Roussel (0.04990485502692381)\n",
      "Garnet Mackley (0.042033528855095204)\n",
      "Artem Bessalov (0.0225437915661147)\n",
      "Chester railway station (0.002913677369347455)\n"
     ]
    }
   ],
   "source": [
    "import pandas as pd\n",
    "import numpy as np\n",
    "import json\n",
    "from sklearn.feature_extraction.text import TfidfVectorizer\n",
    "\n",
    "def load(filename):\n",
    "    with open(filename, 'r') as f:\n",
    "        return json.load(f)\n",
    "\n",
    "def search_tfidf(tfidf_data, article_id, query_word):\n",
    "    for article in tfidf_data:\n",
    "        if article['title'] == article_id:\n",
    "            return article['tfidf'].get(query_word, 0.0)  # Default to 0 if not found\n",
    "    return 0.0  # If article not found in TF-IDF data\n",
    "\n",
    "def create_dataframe(articles):\n",
    "    df = pd.DataFrame(articles)\n",
    "    return df\n",
    "\n",
    "def bm25_score(query_tfidf, doc_tfidf, k1=1.2, b=0.75):\n",
    "    scores = []\n",
    "    for doc_idx, doc_vec in enumerate(doc_tfidf):\n",
    "        score = 0\n",
    "        for term_idx, tfidf in enumerate(query_tfidf):\n",
    "            if tfidf > 0:\n",
    "                tf = doc_vec[term_idx]\n",
    "                idf = query_tfidf[term_idx]\n",
    "                score += idf * ((k1 + 1) * tf) / (k1 * (1 - b) + b * len(doc_vec) / np.mean(len(doc_tfidf)) + tf)\n",
    "        scores.append(score)\n",
    "    return scores\n",
    "\n",
    "def search(index, tfidf_data, query, search_type):\n",
    "    words = query.split()\n",
    "    result = set()\n",
    "\n",
    "    if search_type == 'boolean':\n",
    "        if len(words) == 1:\n",
    "            # Single word query\n",
    "            result = index.get(words[0], set())\n",
    "        else:\n",
    "            # Boolean query\n",
    "            set1 = set(index.get(words[0], set()))\n",
    "            set2 = set(index.get(words[2], set()))\n",
    "            operator = words[1]\n",
    "            if operator == 'AND':\n",
    "                result = set1 & set2\n",
    "            elif operator == 'OR':\n",
    "                result = set1 | set2\n",
    "            elif operator == 'NOT':\n",
    "                result = set1 - set2\n",
    "    elif search_type == 'bm25':\n",
    "        # Initialize the vectorizer here\n",
    "        vectorizer = TfidfVectorizer()\n",
    "        X = vectorizer.fit_transform(df['content'])\n",
    "\n",
    "        query_tfidf = vectorizer.transform([query]).toarray()[0]\n",
    "        bm25_scores = bm25_score(query_tfidf, X.toarray())\n",
    "        result = sorted(enumerate(bm25_scores), key=lambda x: x[1], reverse=True)\n",
    "\n",
    "    if search_type == 'boolean':\n",
    "        results_with_tfidf = [(article_id, search_tfidf(tfidf_data, article_id, words[0])) for article_id in result]\n",
    "        sorted_results = sorted(results_with_tfidf, key=lambda x: x[1], reverse=True)\n",
    "        for article_id, tfidf_value in sorted_results:\n",
    "            print(f\"{article_id} ({tfidf_value})\")\n",
    "    elif search_type == 'bm25':\n",
    "        for rank, (article_idx, score) in enumerate(result):\n",
    "            print(f\"{rank+1}. {df.iloc[article_idx]['title']} ({score})\")\n",
    "\n",
    "if __name__ == \"__main__\":\n",
    "    index = load(\"index.json\")\n",
    "    tfidf_data = load(\"tf-idf.json\")\n",
    "    articles = load(\"articles.json\")\n",
    "    df = create_dataframe(articles)\n",
    "    print(df.columns)\n",
    "    search_type = input(\"Choose search type (boolean/bm25): \")\n",
    "    query = input(\"Enter your query: \")\n",
    "    search(index, tfidf_data, query, search_type)"
   ]
  },
  {
   "cell_type": "code",
   "execution_count": null,
   "id": "f7286945-4f7e-445c-9745-3f2eab7577d1",
   "metadata": {},
   "outputs": [],
   "source": []
  }
 ],
 "metadata": {
  "kernelspec": {
   "display_name": "Python 3 (ipykernel)",
   "language": "python",
   "name": "python3"
  },
  "language_info": {
   "codemirror_mode": {
    "name": "ipython",
    "version": 3
   },
   "file_extension": ".py",
   "mimetype": "text/x-python",
   "name": "python",
   "nbconvert_exporter": "python",
   "pygments_lexer": "ipython3",
   "version": "3.12.7"
  }
 },
 "nbformat": 4,
 "nbformat_minor": 5
}
