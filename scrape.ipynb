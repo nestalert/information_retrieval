{
 "cells": [
  {
   "cell_type": "code",
   "execution_count": 1,
   "id": "52d0594f-799a-48e3-b0c2-4f4936499eac",
   "metadata": {},
   "outputs": [],
   "source": [
    "import requests\n",
    "from bs4 import BeautifulSoup\n",
    "import json\n",
    "\n",
    "def scrape_wikipedia(url):\n",
    "    response = requests.get(url)\n",
    "    soup = BeautifulSoup(response.content, 'html.parser')\n",
    "\n",
    "    # Extract the article title and content\n",
    "    title = soup.find('h1', {'id': 'firstHeading'}).text.strip()\n",
    "    content = soup.find('div', {'id': 'mw-content-text'}).text.strip()\n",
    "\n",
    "    return {'title': title, 'content': content}\n",
    "\n",
    "def main():\n",
    "    urls = [\n",
    "        \"https://en.wikipedia.org/wiki/Mathematics\",\n",
    "        \"https://en.wikipedia.org/wiki/Philosophy\",\n",
    "        \"https://en.wikipedia.org/wiki/Science\",\n",
    "        \"https://en.wikipedia.org/wiki/Society\",\n",
    "        \"https://en.wikipedia.org/wiki/The_arts\",\n",
    "        \"https://en.wikipedia.org/wiki/Earth\",\n",
    "        \"https://en.wikipedia.org/wiki/Human\",\n",
    "        \"https://en.wikipedia.org/wiki/Human_history\",\n",
    "        \"https://en.wikipedia.org/wiki/Life\",\n",
    "        \"https://en.wikipedia.org/wiki/Technology\"\n",
    "    ]\n",
    "\n",
    "    articles = []\n",
    "    for url in urls:\n",
    "        article = scrape_wikipedia(url)\n",
    "        articles.append(article)\n",
    "\n",
    "    with open('articles.json', 'w') as f:\n",
    "        json.dump(articles, f, indent=4)\n",
    "\n",
    "if __name__ == \"__main__\":\n",
    "    main()"
   ]
  },
  {
   "cell_type": "code",
   "execution_count": null,
   "id": "ee62ad60-b420-457e-9afb-caac7d7991f7",
   "metadata": {},
   "outputs": [],
   "source": []
  }
 ],
 "metadata": {
  "kernelspec": {
   "display_name": "Python 3 (ipykernel)",
   "language": "python",
   "name": "python3"
  },
  "language_info": {
   "codemirror_mode": {
    "name": "ipython",
    "version": 3
   },
   "file_extension": ".py",
   "mimetype": "text/x-python",
   "name": "python",
   "nbconvert_exporter": "python",
   "pygments_lexer": "ipython3",
   "version": "3.12.7"
  }
 },
 "nbformat": 4,
 "nbformat_minor": 5
}
