{
 "cells": [
  {
   "cell_type": "code",
   "execution_count": null,
   "id": "050135f7-3124-4675-bebd-1bdcfdf65b5e",
   "metadata": {
    "scrolled": true
   },
   "outputs": [
    {
     "name": "stdout",
     "output_type": "stream",
     "text": [
      "1\n",
      "2\n",
      "3\n",
      "4\n",
      "5\n",
      "6\n",
      "7\n",
      "8\n",
      "9\n",
      "10\n",
      "11\n",
      "12\n",
      "13\n",
      "14\n",
      "15\n",
      "16\n"
     ]
    }
   ],
   "source": [
    "import requests\n",
    "from bs4 import BeautifulSoup\n",
    "import json\n",
    "import random\n",
    "\n",
    "def scrape_wikipedia_article(url):\n",
    "  response = requests.get(url)\n",
    "  soup = BeautifulSoup(response.content, 'html.parser')\n",
    "\n",
    "  # Find the main content div\n",
    "  content_div = soup.find('div', {'id': 'mw-content-text'})\n",
    "\n",
    "  # Extract the title\n",
    "  title = soup.title.text.strip()\n",
    "  title = title.replace(\"/wiki/\", \"\").replace(\" - Wikipedia\", \"\")\n",
    "\n",
    "  # Extract the content, removing non-standard characters\n",
    "  content = content_div.get_text(separator='\\n', strip=True)\n",
    "  content = content.replace('\\u200b', '')  # Remove zero-width space\n",
    "\n",
    "  return {'title': title, 'content': content}\n",
    "\n",
    "def main():\n",
    "    target_count = 20\n",
    "    api_url = \"https://en.wikipedia.org/w/api.php\"\n",
    "\n",
    "    params = {\n",
    "        \"action\": \"query\",\n",
    "        \"list\": \"random\",\n",
    "        \"rnlimit\": target_count,\n",
    "        \"rnnamespace\": 0,  # Filter for article namespace\n",
    "        \"format\": \"json\"\n",
    "    }\n",
    "\n",
    "    response = requests.get(api_url, params=params)\n",
    "    data = response.json()\n",
    "\n",
    "    articles = []\n",
    "    for page in data['query']['random']:\n",
    "        title = page['title']\n",
    "        url = f\"https://en.wikipedia.org/wiki/{title}\"\n",
    "\n",
    "        article_data = scrape_wikipedia_article(url)\n",
    "\n",
    "        if len(article_data['content']) > 1000:\n",
    "            articles.append(article_data)\n",
    "            print(len(articles))\n",
    "\n",
    "    # Save articles\n",
    "    with open('articles.json', 'w', encoding='utf-8') as f:\n",
    "        json.dump(articles, f, indent=4)\n",
    "\n",
    "if __name__ == '__main__':\n",
    "    main()"
   ]
  },
  {
   "cell_type": "code",
   "execution_count": null,
   "id": "8f67aed0-d165-4223-a10d-896593f4c293",
   "metadata": {},
   "outputs": [],
   "source": []
  }
 ],
 "metadata": {
  "kernelspec": {
   "display_name": "Python 3 (ipykernel)",
   "language": "python",
   "name": "python3"
  },
  "language_info": {
   "codemirror_mode": {
    "name": "ipython",
    "version": 3
   },
   "file_extension": ".py",
   "mimetype": "text/x-python",
   "name": "python",
   "nbconvert_exporter": "python",
   "pygments_lexer": "ipython3",
   "version": "3.12.7"
  }
 },
 "nbformat": 4,
 "nbformat_minor": 5
}
