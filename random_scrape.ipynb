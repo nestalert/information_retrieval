{
 "cells": [
  {
   "cell_type": "code",
   "execution_count": null,
   "id": "050135f7-3124-4675-bebd-1bdcfdf65b5e",
   "metadata": {
    "scrolled": true
   },
   "outputs": [
    {
     "name": "stdout",
     "output_type": "stream",
     "text": [
      "0\n",
      "0\n",
      "0\n",
      "1\n",
      "2\n",
      "2\n",
      "3\n",
      "3\n",
      "3\n",
      "3\n",
      "3\n",
      "3\n",
      "3\n",
      "3\n",
      "3\n",
      "3\n",
      "4\n",
      "4\n",
      "4\n",
      "4\n",
      "4\n",
      "4\n",
      "4\n",
      "4\n",
      "5\n"
     ]
    }
   ],
   "source": [
    "#DEFUNCT, kept choosing articles with non-standard characters\n",
    "import requests\n",
    "from bs4 import BeautifulSoup\n",
    "import json\n",
    "\n",
    "def scrape_wikipedia(url):\n",
    "    response = requests.get(url)\n",
    "    soup = BeautifulSoup(response.content, 'html.parser')\n",
    "\n",
    "    # Extract the article title and content\n",
    "    title = soup.find('h1', {'id': 'firstHeading'}).text.strip()\n",
    "    content = soup.find('div', {'id': 'mw-content-text'}).text.strip()\n",
    "\n",
    "    return {'title': title, 'content': content}\n",
    "\n",
    "def get_random_articles():\n",
    "    articles = []\n",
    "    while len(articles) < 5:\n",
    "        # Use Wikipedia's API to get a list of random articles\n",
    "        url = \"https://en.wikipedia.org/w/api.php?action=query&list=random&rnlimit=1&format=json\"\n",
    "        response = requests.get(url)\n",
    "        data = response.json()\n",
    "\n",
    "        page = data['query']['random'][0]\n",
    "        title = page['title']\n",
    "        url = f\"https://en.wikipedia.org/wiki/{title.replace(' ', '_')}\"\n",
    "        text = scrape_wikipedia_article(url)\n",
    "\n",
    "        # To ensure the article has an adequate size\n",
    "        if len(text) > 1000:\n",
    "            articles.append({'title': title, 'text': text})\n",
    "            # Debugging, to make sure process has not stalled for any reason\n",
    "        print(len(articles))\n",
    "    return articles\n",
    "\n",
    "def main():\n",
    "    articles = get_random_articles()\n",
    "\n",
    "    # Save the articles to a JSON file\n",
    "    with open('articles.json', 'w', encoding='utf-8') as f:\n",
    "        json.dump(articles, f, indent=4, ensure_ascii=False)\n",
    "\n",
    "if __name__ == '__main__':\n",
    "    main()"
   ]
  },
  {
   "cell_type": "code",
   "execution_count": null,
   "id": "7ce40b61-2818-447e-96b5-b39a94b23c86",
   "metadata": {},
   "outputs": [],
   "source": []
  }
 ],
 "metadata": {
  "kernelspec": {
   "display_name": "Python 3 (ipykernel)",
   "language": "python",
   "name": "python3"
  },
  "language_info": {
   "codemirror_mode": {
    "name": "ipython",
    "version": 3
   },
   "file_extension": ".py",
   "mimetype": "text/x-python",
   "name": "python",
   "nbconvert_exporter": "python",
   "pygments_lexer": "ipython3",
   "version": "3.12.7"
  }
 },
 "nbformat": 4,
 "nbformat_minor": 5
}
