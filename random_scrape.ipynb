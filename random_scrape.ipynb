{
 "cells": [
  {
   "cell_type": "code",
   "execution_count": 69,
   "id": "050135f7-3124-4675-bebd-1bdcfdf65b5e",
   "metadata": {
    "scrolled": true
   },
   "outputs": [
    {
     "name": "stdout",
     "output_type": "stream",
     "text": [
      "0\n",
      "0\n",
      "0\n",
      "0\n",
      "1\n",
      "1\n",
      "1\n",
      "1\n",
      "1\n",
      "2\n",
      "2\n",
      "2\n",
      "3\n",
      "3\n",
      "3\n",
      "3\n",
      "3\n",
      "3\n",
      "4\n",
      "5\n",
      "6\n",
      "6\n",
      "7\n",
      "7\n",
      "7\n",
      "7\n",
      "7\n",
      "7\n",
      "8\n",
      "9\n",
      "10\n"
     ]
    }
   ],
   "source": [
    "import requests\n",
    "from bs4 import BeautifulSoup\n",
    "import json\n",
    "\n",
    "def scrape_wikipedia_article(url):\n",
    "    response = requests.get(url)\n",
    "    soup = BeautifulSoup(response.content, 'html.parser')\n",
    "\n",
    "    # Find the main content div\n",
    "    content_div = soup.find('div', {'id': 'mw-content-text'})\n",
    "\n",
    "    # Extract text from paragraphs\n",
    "    paragraphs = content_div.find_all('p')\n",
    "    text = '\\n'.join([p.text.strip() for p in paragraphs])\n",
    "\n",
    "    return text\n",
    "\n",
    "def get_random_articles():\n",
    "    articles = []\n",
    "    while len(articles) < 10:\n",
    "        # Use Wikipedia's API to get a list of random articles\n",
    "        url = \"https://en.wikipedia.org/w/api.php?action=query&list=random&rnlimit=1&format=json\"\n",
    "        response = requests.get(url)\n",
    "        data = response.json()\n",
    "\n",
    "        page = data['query']['random'][0]\n",
    "        title = page['title']\n",
    "        url = f\"https://en.wikipedia.org/wiki/{title.replace(' ', '_')}\"\n",
    "        text = scrape_wikipedia_article(url)\n",
    "\n",
    "        if len(text) > 1000:\n",
    "            articles.append({'title': title, 'text': text})\n",
    "        print(len(articles))\n",
    "    return articles\n",
    "\n",
    "def main():\n",
    "    articles = get_random_articles()\n",
    "\n",
    "    # Save the articles to a JSON file\n",
    "    with open('wikipedia_articles.json', 'w') as f:\n",
    "        json.dump(articles, f, indent=4)\n",
    "\n",
    "if __name__ == '__main__':\n",
    "    main()"
   ]
  },
  {
   "cell_type": "code",
   "execution_count": null,
   "id": "7ce40b61-2818-447e-96b5-b39a94b23c86",
   "metadata": {},
   "outputs": [],
   "source": []
  },
  {
   "cell_type": "code",
   "execution_count": null,
   "id": "d019d74a-ff26-4873-9210-9354caaf42b2",
   "metadata": {},
   "outputs": [],
   "source": []
  }
 ],
 "metadata": {
  "kernelspec": {
   "display_name": "Python 3 (ipykernel)",
   "language": "python",
   "name": "python3"
  },
  "language_info": {
   "codemirror_mode": {
    "name": "ipython",
    "version": 3
   },
   "file_extension": ".py",
   "mimetype": "text/x-python",
   "name": "python",
   "nbconvert_exporter": "python",
   "pygments_lexer": "ipython3",
   "version": "3.12.4"
  }
 },
 "nbformat": 4,
 "nbformat_minor": 5
}
