{
 "cells": [
  {
   "cell_type": "code",
   "execution_count": 4,
   "id": "ffad7d28-6a37-4b1a-8def-f8e44ee501c4",
   "metadata": {},
   "outputs": [],
   "source": [
    "import json\n",
    "from sklearn.feature_extraction.text import TfidfVectorizer\n",
    "\n",
    "def calculate_tf_idf(json_file):\n",
    "\n",
    "    with open(json_file, 'r') as f:\n",
    "        data = json.load(f)\n",
    "\n",
    "    # Extract content from each article\n",
    "    corpus = [\" \".join(article[\"content\"]) for article in data]\n",
    "\n",
    "    # Create TF-IDF vectorizer\n",
    "    vectorizer = TfidfVectorizer()\n",
    "\n",
    "    # Fit and transform the corpus\n",
    "    X = vectorizer.fit_transform(corpus)\n",
    "\n",
    "    # Get feature names (words)\n",
    "    feature_names = vectorizer.get_feature_names_out()\n",
    "\n",
    "    # Create a list of dictionaries, each containing title and TF-IDF scores\n",
    "    tf_idf_results = []\n",
    "    for i, article in enumerate(data):\n",
    "        title = article[\"title\"]\n",
    "        tfidf_scores = dict(zip(feature_names, X[i].toarray()[0]))\n",
    "        tf_idf_results.append({\"title\": title, \"tfidf\": tfidf_scores})\n",
    "\n",
    "    return tf_idf_results\n",
    "\n",
    "json_file = \"cleanup.json\"\n",
    "tf_idf_results = calculate_tf_idf(json_file)\n",
    "\n",
    "# Save the results to a JSON file\n",
    "with open(\"tf-idf.json\", \"w\") as f:\n",
    "    json.dump(tf_idf_results, f, indent=4)"
   ]
  },
  {
   "cell_type": "code",
   "execution_count": null,
   "id": "47b1d8f2-083b-4074-9e49-ca25aebaaaf5",
   "metadata": {},
   "outputs": [],
   "source": []
  }
 ],
 "metadata": {
  "kernelspec": {
   "display_name": "Python 3 (ipykernel)",
   "language": "python",
   "name": "python3"
  },
  "language_info": {
   "codemirror_mode": {
    "name": "ipython",
    "version": 3
   },
   "file_extension": ".py",
   "mimetype": "text/x-python",
   "name": "python",
   "nbconvert_exporter": "python",
   "pygments_lexer": "ipython3",
   "version": "3.12.7"
  }
 },
 "nbformat": 4,
 "nbformat_minor": 5
}
