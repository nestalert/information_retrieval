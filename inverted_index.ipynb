{
 "cells": [
  {
   "cell_type": "code",
   "execution_count": 1,
   "id": "337ca431-3ea1-4e4c-95e4-44089658eca9",
   "metadata": {
    "scrolled": true
   },
   "outputs": [],
   "source": [
    "import json\n",
    "\n",
    "def create_inverted_index(articles):\n",
    "    index = {}\n",
    "    for article in articles:\n",
    "        for word in article['content']:\n",
    "            if word not in index:\n",
    "                index[word] = []\n",
    "            index[word].append(article['title'])\n",
    "    return index\n",
    "\n",
    "def main():\n",
    "    with open('cleanup.json', 'r') as f:\n",
    "        articles = json.load(f)\n",
    "\n",
    "    index = create_inverted_index(articles)\n",
    "\n",
    "    with open('index.json', 'w') as f:\n",
    "        json.dump(index, f, indent=4)\n",
    "\n",
    "if __name__ == \"__main__\":\n",
    "    main()\n",
    "\n"
   ]
  },
  {
   "cell_type": "code",
   "execution_count": null,
   "id": "208bb9f2-1550-49d3-9802-022088745cc4",
   "metadata": {},
   "outputs": [],
   "source": []
  }
 ],
 "metadata": {
  "kernelspec": {
   "display_name": "Python 3 (ipykernel)",
   "language": "python",
   "name": "python3"
  },
  "language_info": {
   "codemirror_mode": {
    "name": "ipython",
    "version": 3
   },
   "file_extension": ".py",
   "mimetype": "text/x-python",
   "name": "python",
   "nbconvert_exporter": "python",
   "pygments_lexer": "ipython3",
   "version": "3.12.7"
  }
 },
 "nbformat": 4,
 "nbformat_minor": 5
}
