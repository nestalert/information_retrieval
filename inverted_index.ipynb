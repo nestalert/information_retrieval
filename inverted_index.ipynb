{
 "cells": [
  {
   "cell_type": "code",
   "execution_count": null,
   "id": "337ca431-3ea1-4e4c-95e4-44089658eca9",
   "metadata": {},
   "outputs": [],
   "source": [
    "import json\n",
    "\n",
    "def create_inverted_index(articles):\n",
    "    inverted_index = {}\n",
    "    for article in articles:\n",
    "        for term in article['processed_text']:\n",
    "            if term not in inverted_index:\n",
    "                inverted_index[term] = set()\n",
    "            inverted_index[term].add(article['title'])\n",
    "    return inverted_index\n",
    "\n",
    "def main():\n",
    "    with open('processed_articles.json', 'r') as f:\n",
    "        data = json.load(f)\n",
    "\n",
    "    inverted_index = create_inverted_index(data)\n",
    "\n",
    "    # Print the inverted index\n",
    "    for term, documents in inverted_index.items():\n",
    "        print(f\"{term}: {documents}\")\n",
    "\n",
    "if __name__ == '__main__':\n",
    "    main()"
   ]
  }
 ],
 "metadata": {
  "kernelspec": {
   "display_name": "Python 3 (ipykernel)",
   "language": "python",
   "name": "python3"
  },
  "language_info": {
   "codemirror_mode": {
    "name": "ipython",
    "version": 3
   },
   "file_extension": ".py",
   "mimetype": "text/x-python",
   "name": "python",
   "nbconvert_exporter": "python",
   "pygments_lexer": "ipython3",
   "version": "3.12.4"
  }
 },
 "nbformat": 4,
 "nbformat_minor": 5
}
