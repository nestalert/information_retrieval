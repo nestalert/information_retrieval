{
 "cells": [
  {
   "cell_type": "code",
   "execution_count": 13,
   "id": "d5bd3ae4-2d0d-4aef-b3ef-cc6b381983d6",
   "metadata": {},
   "outputs": [],
   "source": [
    "import json\n",
    "from sklearn.datasets import fetch_20newsgroups\n",
    "\n",
    "# Load the 20 Newsgroups dataset\n",
    "newsgroups_train = fetch_20newsgroups(subset='train')\n",
    "\n",
    "# Create a list to store the formatted data\n",
    "data = []\n",
    "\n",
    "# Iterate through the data and create JSON objects\n",
    "for i in range(len(newsgroups_train.data)):\n",
    "    data.append({\n",
    "        \"title\": newsgroups_train.target_names[newsgroups_train.target[i]],\n",
    "        \"content\": newsgroups_train.data[i]\n",
    "    })\n",
    "\n",
    "# Write the data to a JSON file\n",
    "with open('articles.json', 'w') as f:\n",
    "    json.dump(data, f, indent=4)"
   ]
  },
  {
   "cell_type": "code",
   "execution_count": null,
   "id": "7ed155b1-2e60-4bbb-997d-5983b521aa57",
   "metadata": {},
   "outputs": [],
   "source": []
  }
 ],
 "metadata": {
  "kernelspec": {
   "display_name": "Python 3 (ipykernel)",
   "language": "python",
   "name": "python3"
  },
  "language_info": {
   "codemirror_mode": {
    "name": "ipython",
    "version": 3
   },
   "file_extension": ".py",
   "mimetype": "text/x-python",
   "name": "python",
   "nbconvert_exporter": "python",
   "pygments_lexer": "ipython3",
   "version": "3.12.7"
  }
 },
 "nbformat": 4,
 "nbformat_minor": 5
}
