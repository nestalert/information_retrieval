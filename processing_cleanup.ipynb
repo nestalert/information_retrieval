{
 "cells": [
  {
   "cell_type": "code",
   "execution_count": 2,
   "id": "db7d006c-a7d7-45ac-a040-7d5760fc9e5b",
   "metadata": {},
   "outputs": [],
   "source": [
    "import json\n",
    "import nltk\n",
    "from nltk.stem import PorterStemmer\n",
    "from nltk.tokenize import word_tokenize\n",
    "from nltk.corpus import stopwords  \n",
    "\n",
    "def clean_text(text):\n",
    "    # Tokenization  \n",
    "\n",
    "    words = word_tokenize(text)\n",
    "\n",
    "    # Lowercasing\n",
    "    words = [word.lower() for word in words]\n",
    "\n",
    "    # Remove stop words\n",
    "    stop_words = set(stopwords.words('english'))\n",
    "    words = [word for word  \n",
    " in words if word not in stop_words]  \n",
    "\n",
    "\n",
    "    # Stemming (or Lemmatization)\n",
    "    stemmer = PorterStemmer()\n",
    "    words = [stemmer.stem(word) for word in words]\n",
    "\n",
    "    # Remove special characters\n",
    "    words = [word for word in words if word.isalpha()]\n",
    "\n",
    "    return words\n",
    "\n",
    "def main():\n",
    "    with open('articles.json', 'r') as f:\n",
    "        articles = json.load(f)\n",
    "\n",
    "    cleaned_articles = []\n",
    "    for article in articles:\n",
    "        cleaned_content = clean_text(article['content'])\n",
    "        cleaned_articles.append({'title': article['title'], 'content': cleaned_content})\n",
    "\n",
    "    with open('cleanup.json', 'w') as f:\n",
    "        json.dump(cleaned_articles, f, indent=4)\n",
    "\n",
    "if __name__ == \"__main__\":\n",
    "    main()"
   ]
  },
  {
   "cell_type": "code",
   "execution_count": null,
   "id": "962db5ff-5eeb-40e1-ad04-de03006316bc",
   "metadata": {},
   "outputs": [],
   "source": []
  },
  {
   "cell_type": "code",
   "execution_count": null,
   "id": "71c89212-8b11-4226-8ad8-25206b6308fd",
   "metadata": {},
   "outputs": [],
   "source": []
  }
 ],
 "metadata": {
  "kernelspec": {
   "display_name": "Python 3 (ipykernel)",
   "language": "python",
   "name": "python3"
  },
  "language_info": {
   "codemirror_mode": {
    "name": "ipython",
    "version": 3
   },
   "file_extension": ".py",
   "mimetype": "text/x-python",
   "name": "python",
   "nbconvert_exporter": "python",
   "pygments_lexer": "ipython3",
   "version": "3.12.7"
  }
 },
 "nbformat": 4,
 "nbformat_minor": 5
}
