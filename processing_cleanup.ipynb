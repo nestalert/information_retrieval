{
 "cells": [
  {
   "cell_type": "code",
   "execution_count": 8,
   "id": "db7d006c-a7d7-45ac-a040-7d5760fc9e5b",
   "metadata": {},
   "outputs": [],
   "source": [
    "import json\n",
    "import nltk\n",
    "from nltk.tokenize import word_tokenize\n",
    "from nltk.stem import PorterStemmer\n",
    "from nltk.corpus import stopwords  \n",
    "\n",
    "\n",
    "\n",
    "def preprocess_text(text):\n",
    "    # Tokenization\n",
    "    tokens = word_tokenize(text)\n",
    "\n",
    "    # Stemming\n",
    "    stemmer = PorterStemmer()\n",
    "    stemmed_tokens = [stemmer.stem(token) for token in tokens]  \n",
    "\n",
    "\n",
    "    # Stop word removal\n",
    "    stop_words = set(stopwords.words('english'))\n",
    "    filtered_tokens = [token for token in stemmed_tokens if token not in stop_words]  \n",
    "\n",
    "\n",
    "    # Remove special characters\n",
    "    filtered_tokens = [token for token in filtered_tokens if token.isalpha()]\n",
    "\n",
    "    return filtered_tokens\n",
    "\n",
    "def main():\n",
    "    with open('wikipedia_articles.json', 'r') as f:\n",
    "        data = json.load(f)\n",
    "\n",
    "    for article in data:\n",
    "        processed_text = preprocess_text(article['text'])\n",
    "        article['processed_text'] = processed_text\n",
    "\n",
    "    with open('processed_articles.json', 'w') as f:\n",
    "        json.dump(data, f, indent=4)\n",
    "\n",
    "if __name__ == '__main__':\n",
    "    main()"
   ]
  },
  {
   "cell_type": "code",
   "execution_count": null,
   "id": "962db5ff-5eeb-40e1-ad04-de03006316bc",
   "metadata": {},
   "outputs": [],
   "source": []
  }
 ],
 "metadata": {
  "kernelspec": {
   "display_name": "Python 3 (ipykernel)",
   "language": "python",
   "name": "python3"
  },
  "language_info": {
   "codemirror_mode": {
    "name": "ipython",
    "version": 3
   },
   "file_extension": ".py",
   "mimetype": "text/x-python",
   "name": "python",
   "nbconvert_exporter": "python",
   "pygments_lexer": "ipython3",
   "version": "3.12.4"
  }
 },
 "nbformat": 4,
 "nbformat_minor": 5
}
